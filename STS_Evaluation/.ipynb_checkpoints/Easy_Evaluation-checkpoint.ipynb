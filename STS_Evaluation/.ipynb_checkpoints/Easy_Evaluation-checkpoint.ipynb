{
 "cells": [
  {
   "cell_type": "code",
   "execution_count": 1,
   "metadata": {},
   "outputs": [],
   "source": [
    "from torch.utils.data import DataLoader\n",
    "from sentence_transformers import SentenceTransformer,  SentencesDataset, LoggingHandler, evaluation\n",
    "from sentence_transformers.evaluation import EmbeddingSimilarityEvaluator, SequentialEvaluator\n",
    "from sentence_transformers.readers import STSBenchmarkDataReader\n",
    "import logging\n",
    "import sys\n",
    "import os\n",
    "import torch\n",
    "import numpy as np\n",
    "import zipfile\n",
    "import io\n",
    "import pandas as pd"
   ]
  },
  {
   "cell_type": "code",
   "execution_count": 3,
   "metadata": {
    "scrolled": true
   },
   "outputs": [
    {
     "name": "stdout",
     "output_type": "stream",
     "text": [
      "2022-03-20 08:52:38 - Load pretrained SentenceTransformer: ../output/simcse-model-wangchanberta\n",
      "2022-03-20 08:52:40 - Use pytorch device: cuda\n"
     ]
    }
   ],
   "source": [
    "#### Just some code to print debug information to stdout\n",
    "logging.basicConfig(format='%(asctime)s - %(message)s',\n",
    "                    datefmt='%Y-%m-%d %H:%M:%S',\n",
    "                    level=logging.INFO,\n",
    "                    handlers=[LoggingHandler()])\n",
    "#### /print debug information to stdout\n",
    "\n",
    "model_name = '../output/simcse-model-wangchanberta'\n",
    "# Load a named sentence model (based on BERT). This will download the model from our server.\n",
    "# Alternatively, you can also pass a filepath to SentenceTransformer()\n",
    "model = SentenceTransformer(model_name)"
   ]
  },
  {
   "cell_type": "code",
   "execution_count": 4,
   "metadata": {
    "scrolled": true
   },
   "outputs": [
    {
     "name": "stdout",
     "output_type": "stream",
     "text": [
      "2022-03-20 08:52:40 - Read STS test dataset\n"
     ]
    }
   ],
   "source": [
    "logging.info(\"Read STS test dataset\")\n",
    "filepath = '../sts-test_th.csv'\n",
    "thai_sts = pd.read_csv(filepath,header=None).dropna()\n",
    "thai_sts.columns = ['domain','data','type','score','correlation','text_1','text_2']"
   ]
  },
  {
   "cell_type": "code",
   "execution_count": 5,
   "metadata": {},
   "outputs": [
    {
     "data": {
      "text/html": [
       "<div>\n",
       "<style scoped>\n",
       "    .dataframe tbody tr th:only-of-type {\n",
       "        vertical-align: middle;\n",
       "    }\n",
       "\n",
       "    .dataframe tbody tr th {\n",
       "        vertical-align: top;\n",
       "    }\n",
       "\n",
       "    .dataframe thead th {\n",
       "        text-align: right;\n",
       "    }\n",
       "</style>\n",
       "<table border=\"1\" class=\"dataframe\">\n",
       "  <thead>\n",
       "    <tr style=\"text-align: right;\">\n",
       "      <th></th>\n",
       "      <th>domain</th>\n",
       "      <th>data</th>\n",
       "      <th>type</th>\n",
       "      <th>score</th>\n",
       "      <th>correlation</th>\n",
       "      <th>text_1</th>\n",
       "      <th>text_2</th>\n",
       "    </tr>\n",
       "  </thead>\n",
       "  <tbody>\n",
       "    <tr>\n",
       "      <th>0</th>\n",
       "      <td>main-captions</td>\n",
       "      <td>MSRvid</td>\n",
       "      <td>2012test</td>\n",
       "      <td>24.0</td>\n",
       "      <td>2.50</td>\n",
       "      <td>ผู้หญิงมีสไตล์ผมของเธอ</td>\n",
       "      <td>ผู้หญิงแปรงผมของเธอ</td>\n",
       "    </tr>\n",
       "    <tr>\n",
       "      <th>1</th>\n",
       "      <td>main-captions</td>\n",
       "      <td>MSRvid</td>\n",
       "      <td>2012test</td>\n",
       "      <td>33.0</td>\n",
       "      <td>3.60</td>\n",
       "      <td>กลุ่มผู้ชายเล่นฟุตบอลบนชายหาด</td>\n",
       "      <td>กลุ่มเด็กชายกำลังเล่นฟุตบอลบนชายหาด</td>\n",
       "    </tr>\n",
       "    <tr>\n",
       "      <th>2</th>\n",
       "      <td>main-captions</td>\n",
       "      <td>MSRvid</td>\n",
       "      <td>2012test</td>\n",
       "      <td>45.0</td>\n",
       "      <td>5.00</td>\n",
       "      <td>ผู้หญิงคนหนึ่งกำลังวัดข้อเท้าของผู้หญิงอีกคนหนึ่ง</td>\n",
       "      <td>ผู้หญิงวัดข้อเท้าของผู้หญิงอีกคนหนึ่ง</td>\n",
       "    </tr>\n",
       "    <tr>\n",
       "      <th>3</th>\n",
       "      <td>main-captions</td>\n",
       "      <td>MSRvid</td>\n",
       "      <td>2012test</td>\n",
       "      <td>63.0</td>\n",
       "      <td>4.20</td>\n",
       "      <td>ผู้ชายกำลังตัดแตงกวา</td>\n",
       "      <td>ชายคนหนึ่งกำลังหั่นแตงกวา</td>\n",
       "    </tr>\n",
       "    <tr>\n",
       "      <th>4</th>\n",
       "      <td>main-captions</td>\n",
       "      <td>MSRvid</td>\n",
       "      <td>2012test</td>\n",
       "      <td>66.0</td>\n",
       "      <td>1.50</td>\n",
       "      <td>ผู้ชายกำลังเล่นพิณ</td>\n",
       "      <td>ผู้ชายกำลังเล่นแป้นพิมพ์</td>\n",
       "    </tr>\n",
       "    <tr>\n",
       "      <th>...</th>\n",
       "      <td>...</td>\n",
       "      <td>...</td>\n",
       "      <td>...</td>\n",
       "      <td>...</td>\n",
       "      <td>...</td>\n",
       "      <td>...</td>\n",
       "      <td>...</td>\n",
       "    </tr>\n",
       "    <tr>\n",
       "      <th>1113</th>\n",
       "      <td>main-news</td>\n",
       "      <td>MSRpar</td>\n",
       "      <td>2012train</td>\n",
       "      <td>657.0</td>\n",
       "      <td>4.00</td>\n",
       "      <td>ดังนั้นในที่อยู่ของสหภาพของเขาในเดือนมกราคมบุช...</td>\n",
       "      <td>ในเดือนมกราคมของเขา 28 ข้อความของสหภาพสหภาพบุช...</td>\n",
       "    </tr>\n",
       "    <tr>\n",
       "      <th>1114</th>\n",
       "      <td>main-news</td>\n",
       "      <td>MSRpar</td>\n",
       "      <td>2012train</td>\n",
       "      <td>666.0</td>\n",
       "      <td>4.00</td>\n",
       "      <td>สมาชิกอีก 24 คนถูกแบ่งระหว่างตัวแทนของอุตสาหกร...</td>\n",
       "      <td>ของกรรมการ 24 คนที่ไม่ได้เป็นผู้บริหารตลาดหลัก...</td>\n",
       "    </tr>\n",
       "    <tr>\n",
       "      <th>1115</th>\n",
       "      <td>main-news</td>\n",
       "      <td>MSRpar</td>\n",
       "      <td>2012train</td>\n",
       "      <td>669.0</td>\n",
       "      <td>2.75</td>\n",
       "      <td>สังฆมณฑล Episcopal ของ Central Florida กลายเป็...</td>\n",
       "      <td>สังฆมณฑล Episcopal แห่งเซ็นทรัลฟลอริด้าโหวตวัน...</td>\n",
       "    </tr>\n",
       "    <tr>\n",
       "      <th>1116</th>\n",
       "      <td>main-news</td>\n",
       "      <td>MSRpar</td>\n",
       "      <td>2012train</td>\n",
       "      <td>679.0</td>\n",
       "      <td>2.25</td>\n",
       "      <td>McGill ยังมีรายละเอียดหลุมที่ถูกตัดในลำตัวของ ...</td>\n",
       "      <td>McGill ยังกล่าวอีกว่าถุงมือดำถูกยัดเข้าไปในหลุ...</td>\n",
       "    </tr>\n",
       "    <tr>\n",
       "      <th>1117</th>\n",
       "      <td>main-news</td>\n",
       "      <td>MSRpar</td>\n",
       "      <td>2012train</td>\n",
       "      <td>693.0</td>\n",
       "      <td>3.20</td>\n",
       "      <td>เมื่อเทียบกับกำไรปีก่อนหน้า 102 ล้านดอลลาร์หรื...</td>\n",
       "      <td>นั่นเป็นมากกว่าสองเท่าของ $ 102 ล้านหรือ 13 เซ...</td>\n",
       "    </tr>\n",
       "  </tbody>\n",
       "</table>\n",
       "<p>1118 rows × 7 columns</p>\n",
       "</div>"
      ],
      "text/plain": [
       "             domain    data       type  score  correlation  \\\n",
       "0     main-captions  MSRvid   2012test   24.0         2.50   \n",
       "1     main-captions  MSRvid   2012test   33.0         3.60   \n",
       "2     main-captions  MSRvid   2012test   45.0         5.00   \n",
       "3     main-captions  MSRvid   2012test   63.0         4.20   \n",
       "4     main-captions  MSRvid   2012test   66.0         1.50   \n",
       "...             ...     ...        ...    ...          ...   \n",
       "1113      main-news  MSRpar  2012train  657.0         4.00   \n",
       "1114      main-news  MSRpar  2012train  666.0         4.00   \n",
       "1115      main-news  MSRpar  2012train  669.0         2.75   \n",
       "1116      main-news  MSRpar  2012train  679.0         2.25   \n",
       "1117      main-news  MSRpar  2012train  693.0         3.20   \n",
       "\n",
       "                                                 text_1  \\\n",
       "0                                ผู้หญิงมีสไตล์ผมของเธอ   \n",
       "1                         กลุ่มผู้ชายเล่นฟุตบอลบนชายหาด   \n",
       "2     ผู้หญิงคนหนึ่งกำลังวัดข้อเท้าของผู้หญิงอีกคนหนึ่ง   \n",
       "3                                  ผู้ชายกำลังตัดแตงกวา   \n",
       "4                                    ผู้ชายกำลังเล่นพิณ   \n",
       "...                                                 ...   \n",
       "1113  ดังนั้นในที่อยู่ของสหภาพของเขาในเดือนมกราคมบุช...   \n",
       "1114  สมาชิกอีก 24 คนถูกแบ่งระหว่างตัวแทนของอุตสาหกร...   \n",
       "1115  สังฆมณฑล Episcopal ของ Central Florida กลายเป็...   \n",
       "1116  McGill ยังมีรายละเอียดหลุมที่ถูกตัดในลำตัวของ ...   \n",
       "1117  เมื่อเทียบกับกำไรปีก่อนหน้า 102 ล้านดอลลาร์หรื...   \n",
       "\n",
       "                                                 text_2  \n",
       "0                                   ผู้หญิงแปรงผมของเธอ  \n",
       "1                   กลุ่มเด็กชายกำลังเล่นฟุตบอลบนชายหาด  \n",
       "2                 ผู้หญิงวัดข้อเท้าของผู้หญิงอีกคนหนึ่ง  \n",
       "3                             ชายคนหนึ่งกำลังหั่นแตงกวา  \n",
       "4                              ผู้ชายกำลังเล่นแป้นพิมพ์  \n",
       "...                                                 ...  \n",
       "1113  ในเดือนมกราคมของเขา 28 ข้อความของสหภาพสหภาพบุช...  \n",
       "1114  ของกรรมการ 24 คนที่ไม่ได้เป็นผู้บริหารตลาดหลัก...  \n",
       "1115  สังฆมณฑล Episcopal แห่งเซ็นทรัลฟลอริด้าโหวตวัน...  \n",
       "1116  McGill ยังกล่าวอีกว่าถุงมือดำถูกยัดเข้าไปในหลุ...  \n",
       "1117  นั่นเป็นมากกว่าสองเท่าของ $ 102 ล้านหรือ 13 เซ...  \n",
       "\n",
       "[1118 rows x 7 columns]"
      ]
     },
     "execution_count": 5,
     "metadata": {},
     "output_type": "execute_result"
    }
   ],
   "source": [
    "thai_sts"
   ]
  },
  {
   "cell_type": "code",
   "execution_count": 6,
   "metadata": {},
   "outputs": [
    {
     "name": "stdout",
     "output_type": "stream",
     "text": [
      "2022-03-20 08:52:40 - EmbeddingSimilarityEvaluator: Evaluating the model on  dataset:\n",
      "2022-03-20 08:52:54 - Cosine-Similarity :\tSpearman: 0.5266\n"
     ]
    },
    {
     "data": {
      "text/plain": [
       "0.5412251784006834"
      ]
     },
     "execution_count": 6,
     "metadata": {},
     "output_type": "execute_result"
    }
   ],
   "source": [
    "test_evaluator = EmbeddingSimilarityEvaluator(thai_sts['text_1'], thai_sts['text_2'], thai_sts['correlation'], batch_size=16, show_progress_bar=False)\n",
    "test_evaluator(model) #ใช้แค่ cosine-similarity: spearman: XXXXX"
   ]
  },
  {
   "cell_type": "code",
   "execution_count": null,
   "metadata": {},
   "outputs": [],
   "source": []
  }
 ],
 "metadata": {
  "kernelspec": {
   "display_name": "Python 3",
   "language": "python",
   "name": "python3"
  },
  "language_info": {
   "codemirror_mode": {
    "name": "ipython",
    "version": 3
   },
   "file_extension": ".py",
   "mimetype": "text/x-python",
   "name": "python",
   "nbconvert_exporter": "python",
   "pygments_lexer": "ipython3",
   "version": "3.6.9"
  }
 },
 "nbformat": 4,
 "nbformat_minor": 2
}
